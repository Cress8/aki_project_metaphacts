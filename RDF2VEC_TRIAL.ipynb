{
 "cells": [
  {
   "cell_type": "code",
   "execution_count": 2,
   "metadata": {},
   "outputs": [],
   "source": [
    "import pandas as pd\n",
    "\n",
    "from pyrdf2vec import RDF2VecTransformer\n",
    "from pyrdf2vec.embedders import Word2Vec\n",
    "from pyrdf2vec.graphs import KG\n",
    "from pyrdf2vec.walkers import RandomWalker\n",
    "from pyrdf2vec.graphs import Vertex\n",
    "\n",
    "from rdflib import Graph\n",
    "import rdflib"
   ]
  },
  {
   "cell_type": "code",
   "execution_count": null,
   "metadata": {},
   "outputs": [],
   "source": [
    "#Define the entities\n",
    "data = pd.read_csv(\"small_data.csv\", sep=\",\")\n",
    "entities = [entity for entity in data[\"work\"]]\n"
   ]
  },
  {
   "cell_type": "code",
   "execution_count": 76,
   "metadata": {},
   "outputs": [],
   "source": [
    "knowledge=KG(\n",
    "    \"https://semopenalex.org/sparql\",\n",
    "skip_predicates={\"http://prismstandard.org/namespaces/basic/2.0/publicationDate#\"}, \n",
    "    literals=[\n",
    "        [\n",
    "            \"https://semopenalex.org/property/class#\",\n",
    "            \"http://www.w3.org/2004/02/skos/core#prefLabel\",\n",
    "           \n",
    "        ],\n",
    "        [\n",
    "           \n",
    "             \"https://semopenalex.org/property/hasConcept#\",\n",
    "            \"http://www.w3.org/2004/02/skos/core#prefLabel\",\n",
    "        ],\n",
    "          [\n",
    "           \n",
    "             \"https://semopenalex.org/property/class#\",\n",
    "            \"http://www.w3.org/2004/02/skos/core#prefLabel\",\n",
    "        ],\n",
    "    ],\n",
    ")"
   ]
  },
  {
   "cell_type": "code",
   "execution_count": 73,
   "metadata": {},
   "outputs": [
    {
     "name": "stdout",
     "output_type": "stream",
     "text": [
      "(KG(location='https://semopenalex.org/sparql', skip_predicates={'http://prismstandard.org/namespaces/basic/2.0/publicationDate#'}, literals=[['https://semopenalex.org/property/hasConcept#', 'http://www.w3.org/2004/02/skos/core#prefLabel', 'http://purl.org/dc/terms/'], ['https://semopenalex.org/property/hasConcept#', 'http://www.w3.org/2004/02/skos/core#prefLabel'], ['https://semopenalex.org/property/hasConcept#', 'http://www.w3.org/2004/02/skos/core#prefLabel']], fmt=None, mul_req=False, skip_verify=False, cache=TTLCache([], maxsize=1024, currsize=0), _is_remote=True),)\n"
     ]
    }
   ],
   "source": [
    "print(knowledge )"
   ]
  },
  {
   "cell_type": "code",
   "execution_count": 57,
   "metadata": {},
   "outputs": [],
   "source": [
    "transformer = RDF2VecTransformer(\n",
    "    Word2Vec(epochs=10),\n",
    "    walkers=[RandomWalker(4, 10, with_reverse=False, n_jobs=2)],\n",
    "    verbose=1\n",
    ")\n"
   ]
  },
  {
   "cell_type": "code",
   "execution_count": 77,
   "metadata": {},
   "outputs": [
    {
     "ename": "AttributeError",
     "evalue": "'tuple' object has no attribute 'skip_verify'",
     "output_type": "error",
     "traceback": [
      "\u001b[1;31m---------------------------------------------------------------------------\u001b[0m",
      "\u001b[1;31mAttributeError\u001b[0m                            Traceback (most recent call last)",
      "Cell \u001b[1;32mIn[77], line 1\u001b[0m\n\u001b[1;32m----> 1\u001b[0m embeddings, literals \u001b[39m=\u001b[39m transformer\u001b[39m.\u001b[39;49mfit_transform(knowledge, entities)\n",
      "File \u001b[1;32m~\\AppData\\Local\\Packages\\PythonSoftwareFoundation.Python.3.9_qbz5n2kfra8p0\\LocalCache\\local-packages\\Python39\\site-packages\\pyrdf2vec\\rdf2vec.py:143\u001b[0m, in \u001b[0;36mRDF2VecTransformer.fit_transform\u001b[1;34m(self, kg, entities, is_update)\u001b[0m\n\u001b[0;32m    126\u001b[0m \u001b[39m\"\"\"Creates a model and generates embeddings and literals for the\u001b[39;00m\n\u001b[0;32m    127\u001b[0m \u001b[39mprovided entities.\u001b[39;00m\n\u001b[0;32m    128\u001b[0m \n\u001b[1;32m   (...)\u001b[0m\n\u001b[0;32m    140\u001b[0m \n\u001b[0;32m    141\u001b[0m \u001b[39m\"\"\"\u001b[39;00m\n\u001b[0;32m    142\u001b[0m \u001b[39mself\u001b[39m\u001b[39m.\u001b[39m_is_extract_walks_literals \u001b[39m=\u001b[39m \u001b[39mTrue\u001b[39;00m\n\u001b[1;32m--> 143\u001b[0m \u001b[39mself\u001b[39m\u001b[39m.\u001b[39mfit(\u001b[39mself\u001b[39;49m\u001b[39m.\u001b[39;49mget_walks(kg, entities), is_update)\n\u001b[0;32m    144\u001b[0m \u001b[39mreturn\u001b[39;00m \u001b[39mself\u001b[39m\u001b[39m.\u001b[39mtransform(kg, entities)\n",
      "File \u001b[1;32m~\\AppData\\Local\\Packages\\PythonSoftwareFoundation.Python.3.9_qbz5n2kfra8p0\\LocalCache\\local-packages\\Python39\\site-packages\\pyrdf2vec\\rdf2vec.py:163\u001b[0m, in \u001b[0;36mRDF2VecTransformer.get_walks\u001b[1;34m(self, kg, entities)\u001b[0m\n\u001b[0;32m    146\u001b[0m \u001b[39mdef\u001b[39;00m \u001b[39mget_walks\u001b[39m(\u001b[39mself\u001b[39m, kg: KG, entities: Entities) \u001b[39m-\u001b[39m\u001b[39m>\u001b[39m List[List[SWalk]]:\n\u001b[0;32m    147\u001b[0m     \u001b[39m\"\"\"Gets the walks of an entity based on a Knowledge Graph and a\u001b[39;00m\n\u001b[0;32m    148\u001b[0m \u001b[39m    list of walkers\u001b[39;00m\n\u001b[0;32m    149\u001b[0m \n\u001b[1;32m   (...)\u001b[0m\n\u001b[0;32m    161\u001b[0m \n\u001b[0;32m    162\u001b[0m \u001b[39m    \"\"\"\u001b[39;00m\n\u001b[1;32m--> 163\u001b[0m     \u001b[39mif\u001b[39;00m kg\u001b[39m.\u001b[39;49mskip_verify \u001b[39mis\u001b[39;00m \u001b[39mFalse\u001b[39;00m \u001b[39mand\u001b[39;00m \u001b[39mnot\u001b[39;00m kg\u001b[39m.\u001b[39mis_exist(entities):\n\u001b[0;32m    164\u001b[0m         \u001b[39mif\u001b[39;00m kg\u001b[39m.\u001b[39mmul_req:\n\u001b[0;32m    165\u001b[0m             asyncio\u001b[39m.\u001b[39mrun(kg\u001b[39m.\u001b[39mconnector\u001b[39m.\u001b[39mclose())\n",
      "\u001b[1;31mAttributeError\u001b[0m: 'tuple' object has no attribute 'skip_verify'"
     ]
    }
   ],
   "source": [
    "embeddings, literals = transformer.fit_transform(knowledge, entities)"
   ]
  },
  {
   "cell_type": "code",
   "execution_count": null,
   "metadata": {},
   "outputs": [],
   "source": []
  }
 ],
 "metadata": {
  "kernelspec": {
   "display_name": "Python 3",
   "language": "python",
   "name": "python3"
  },
  "language_info": {
   "codemirror_mode": {
    "name": "ipython",
    "version": 3
   },
   "file_extension": ".py",
   "mimetype": "text/x-python",
   "name": "python",
   "nbconvert_exporter": "python",
   "pygments_lexer": "ipython3",
   "version": "3.9.13"
  },
  "orig_nbformat": 4,
  "vscode": {
   "interpreter": {
    "hash": "e4eed0e4ac208b39471a32ccc3ec406fd0993f32776dcc38ecc96ca87d526a53"
   }
  }
 },
 "nbformat": 4,
 "nbformat_minor": 2
}
