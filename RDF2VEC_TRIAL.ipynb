{
 "cells": [
  {
   "cell_type": "code",
   "execution_count": 6,
   "metadata": {},
   "outputs": [],
   "source": [
    "import pandas as pd\n",
    "\n",
    "from pyrdf2vec import RDF2VecTransformer\n",
    "from pyrdf2vec.embedders import Word2Vec\n",
    "from pyrdf2vec.graphs import KG\n",
    "from pyrdf2vec.walkers import RandomWalker\n",
    "from pyrdf2vec.graphs import Vertex\n",
    "\n",
    "from rdflib import Graph\n",
    "import rdflib"
   ]
  },
  {
   "cell_type": "code",
   "execution_count": 7,
   "metadata": {},
   "outputs": [],
   "source": [
    "#Define the entities\n",
    "data = pd.read_csv(\"Data1912.csv\", sep=\",\")\n",
    "entities = [entity for entity in data[\"Publication\"]]\n"
   ]
  },
  {
   "cell_type": "code",
   "execution_count": 27,
   "metadata": {},
   "outputs": [],
   "source": [
    "knowledge=KG(\n",
    "    \"https://semopenalex.org/sparql\",\n",
    "skip_predicates={\"http://www.w3.org/1999/02/22-rdf-syntax-ns#type\"}, \n",
    "    literals=[\n",
    "        [\n",
    "            \n",
    "            \"http://purl.org/spar/cito/cites\",\n",
    "            \"https://semopenalex.org/property/hasConcept\",\n",
    "            \"https://semopenalex.org/property/hasRelatedWork\",\n",
    "            \"http://www.w3.org/2004/02/skos/core#prefLabel\",\n",
    "            \n",
    "           \n",
    "        ],\n",
    "        [\n",
    "           \n",
    "             \"http://xmlns.com/foaf/0.1/name\",\n",
    "        \n",
    "        ],\n",
    "          [\n",
    "           \n",
    "            \"http://www.w3.org/2004/02/skos/core#related\",\n",
    "            \"http://www.w3.org/2004/02/skos/core#broader\",\n",
    "            \"http://www.w3.org/2004/02/skos/core#Concept\",\n",
    "        ],\n",
    "        [\n",
    "            \"http://www.w3.org/2004/02/skos/core#prefLabel\",\n",
    "        ],\n",
    "    ],\n",
    ")"
   ]
  },
  {
   "cell_type": "code",
   "execution_count": 10,
   "metadata": {},
   "outputs": [
    {
     "name": "stdout",
     "output_type": "stream",
     "text": [
      "KG(location='https://semopenalex.org/sparql', skip_predicates={'http://prismstandard.org/namespaces/basic/2.0/publicationDate#'}, literals=[['http://purl.org/spar/cito/cites', 'https://semopenalex.org/property/hasConcept', 'https://semopenalex.org/property/hasRelatedWork', 'http://www.w3.org/2004/02/skos/core#prefLabel', 'http://www.w3.org/1999/02/22-rdf-syntax-ns#type'], ['http://xmlns.com/foaf/0.1/name'], ['http://www.w3.org/2004/02/skos/core#related', 'http://www.w3.org/2004/02/skos/core#broader', 'http://www.w3.org/2004/02/skos/core#Concept'], ['http://www.w3.org/2004/02/skos/core#prefLabel']], fmt=None, mul_req=False, skip_verify=False, cache=TTLCache([], maxsize=1024, currsize=0), _is_remote=True)\n"
     ]
    }
   ],
   "source": [
    "print(knowledge )"
   ]
  },
  {
   "cell_type": "code",
   "execution_count": 11,
   "metadata": {},
   "outputs": [],
   "source": [
    "transformer = RDF2VecTransformer(\n",
    "    Word2Vec(epochs=10),\n",
    "    walkers=[RandomWalker(4, 10, with_reverse=False, n_jobs=2)],\n",
    "    verbose=1\n",
    ")\n"
   ]
  },
  {
   "cell_type": "code",
   "execution_count": 28,
   "metadata": {},
   "outputs": [
    {
     "ename": "JSONDecodeError",
     "evalue": "[Errno Expecting value] <html>\n  <head>\n    <title>Page not found</title>\n  </head>\n  <body>\n    <p>\n    We could not find that page. Please go back and try again.\n    </p>\n  </body>\n</html>\n: 0",
     "output_type": "error",
     "traceback": [
      "\u001b[1;31m---------------------------------------------------------------------------\u001b[0m",
      "\u001b[1;31mJSONDecodeError\u001b[0m                           Traceback (most recent call last)",
      "File \u001b[1;32m~\\AppData\\Local\\Packages\\PythonSoftwareFoundation.Python.3.9_qbz5n2kfra8p0\\LocalCache\\local-packages\\Python39\\site-packages\\requests\\models.py:910\u001b[0m, in \u001b[0;36mResponse.json\u001b[1;34m(self, **kwargs)\u001b[0m\n\u001b[0;32m    909\u001b[0m \u001b[39mtry\u001b[39;00m:\n\u001b[1;32m--> 910\u001b[0m     \u001b[39mreturn\u001b[39;00m complexjson\u001b[39m.\u001b[39mloads(\u001b[39mself\u001b[39m\u001b[39m.\u001b[39mtext, \u001b[39m*\u001b[39m\u001b[39m*\u001b[39mkwargs)\n\u001b[0;32m    911\u001b[0m \u001b[39mexcept\u001b[39;00m JSONDecodeError \u001b[39mas\u001b[39;00m e:\n\u001b[0;32m    912\u001b[0m     \u001b[39m# Catch JSON-related errors and raise as requests.JSONDecodeError\u001b[39;00m\n\u001b[0;32m    913\u001b[0m     \u001b[39m# This aliases json.JSONDecodeError and simplejson.JSONDecodeError\u001b[39;00m\n",
      "File \u001b[1;32m~\\AppData\\Local\\Packages\\PythonSoftwareFoundation.Python.3.9_qbz5n2kfra8p0\\LocalCache\\local-packages\\Python39\\site-packages\\simplejson\\__init__.py:525\u001b[0m, in \u001b[0;36mloads\u001b[1;34m(s, encoding, cls, object_hook, parse_float, parse_int, parse_constant, object_pairs_hook, use_decimal, **kw)\u001b[0m\n\u001b[0;32m    521\u001b[0m \u001b[39mif\u001b[39;00m (\u001b[39mcls\u001b[39m \u001b[39mis\u001b[39;00m \u001b[39mNone\u001b[39;00m \u001b[39mand\u001b[39;00m encoding \u001b[39mis\u001b[39;00m \u001b[39mNone\u001b[39;00m \u001b[39mand\u001b[39;00m object_hook \u001b[39mis\u001b[39;00m \u001b[39mNone\u001b[39;00m \u001b[39mand\u001b[39;00m\n\u001b[0;32m    522\u001b[0m         parse_int \u001b[39mis\u001b[39;00m \u001b[39mNone\u001b[39;00m \u001b[39mand\u001b[39;00m parse_float \u001b[39mis\u001b[39;00m \u001b[39mNone\u001b[39;00m \u001b[39mand\u001b[39;00m\n\u001b[0;32m    523\u001b[0m         parse_constant \u001b[39mis\u001b[39;00m \u001b[39mNone\u001b[39;00m \u001b[39mand\u001b[39;00m object_pairs_hook \u001b[39mis\u001b[39;00m \u001b[39mNone\u001b[39;00m\n\u001b[0;32m    524\u001b[0m         \u001b[39mand\u001b[39;00m \u001b[39mnot\u001b[39;00m use_decimal \u001b[39mand\u001b[39;00m \u001b[39mnot\u001b[39;00m kw):\n\u001b[1;32m--> 525\u001b[0m     \u001b[39mreturn\u001b[39;00m _default_decoder\u001b[39m.\u001b[39;49mdecode(s)\n\u001b[0;32m    526\u001b[0m \u001b[39mif\u001b[39;00m \u001b[39mcls\u001b[39m \u001b[39mis\u001b[39;00m \u001b[39mNone\u001b[39;00m:\n",
      "File \u001b[1;32m~\\AppData\\Local\\Packages\\PythonSoftwareFoundation.Python.3.9_qbz5n2kfra8p0\\LocalCache\\local-packages\\Python39\\site-packages\\simplejson\\decoder.py:370\u001b[0m, in \u001b[0;36mJSONDecoder.decode\u001b[1;34m(self, s, _w, _PY3)\u001b[0m\n\u001b[0;32m    369\u001b[0m     s \u001b[39m=\u001b[39m \u001b[39mstr\u001b[39m(s, \u001b[39mself\u001b[39m\u001b[39m.\u001b[39mencoding)\n\u001b[1;32m--> 370\u001b[0m obj, end \u001b[39m=\u001b[39m \u001b[39mself\u001b[39;49m\u001b[39m.\u001b[39;49mraw_decode(s)\n\u001b[0;32m    371\u001b[0m end \u001b[39m=\u001b[39m _w(s, end)\u001b[39m.\u001b[39mend()\n",
      "File \u001b[1;32m~\\AppData\\Local\\Packages\\PythonSoftwareFoundation.Python.3.9_qbz5n2kfra8p0\\LocalCache\\local-packages\\Python39\\site-packages\\simplejson\\decoder.py:400\u001b[0m, in \u001b[0;36mJSONDecoder.raw_decode\u001b[1;34m(self, s, idx, _w, _PY3)\u001b[0m\n\u001b[0;32m    399\u001b[0m         idx \u001b[39m+\u001b[39m\u001b[39m=\u001b[39m \u001b[39m3\u001b[39m\n\u001b[1;32m--> 400\u001b[0m \u001b[39mreturn\u001b[39;00m \u001b[39mself\u001b[39;49m\u001b[39m.\u001b[39;49mscan_once(s, idx\u001b[39m=\u001b[39;49m_w(s, idx)\u001b[39m.\u001b[39;49mend())\n",
      "\u001b[1;31mJSONDecodeError\u001b[0m: Expecting value: line 1 column 1 (char 0)",
      "\nDuring handling of the above exception, another exception occurred:\n",
      "\u001b[1;31mJSONDecodeError\u001b[0m                           Traceback (most recent call last)",
      "Cell \u001b[1;32mIn[28], line 1\u001b[0m\n\u001b[1;32m----> 1\u001b[0m embeddings, literals \u001b[39m=\u001b[39m transformer\u001b[39m.\u001b[39;49mfit_transform(knowledge, entities)\n",
      "File \u001b[1;32m~\\AppData\\Local\\Packages\\PythonSoftwareFoundation.Python.3.9_qbz5n2kfra8p0\\LocalCache\\local-packages\\Python39\\site-packages\\pyrdf2vec\\rdf2vec.py:143\u001b[0m, in \u001b[0;36mRDF2VecTransformer.fit_transform\u001b[1;34m(self, kg, entities, is_update)\u001b[0m\n\u001b[0;32m    126\u001b[0m \u001b[39m\"\"\"Creates a model and generates embeddings and literals for the\u001b[39;00m\n\u001b[0;32m    127\u001b[0m \u001b[39mprovided entities.\u001b[39;00m\n\u001b[0;32m    128\u001b[0m \n\u001b[1;32m   (...)\u001b[0m\n\u001b[0;32m    140\u001b[0m \n\u001b[0;32m    141\u001b[0m \u001b[39m\"\"\"\u001b[39;00m\n\u001b[0;32m    142\u001b[0m \u001b[39mself\u001b[39m\u001b[39m.\u001b[39m_is_extract_walks_literals \u001b[39m=\u001b[39m \u001b[39mTrue\u001b[39;00m\n\u001b[1;32m--> 143\u001b[0m \u001b[39mself\u001b[39m\u001b[39m.\u001b[39mfit(\u001b[39mself\u001b[39;49m\u001b[39m.\u001b[39;49mget_walks(kg, entities), is_update)\n\u001b[0;32m    144\u001b[0m \u001b[39mreturn\u001b[39;00m \u001b[39mself\u001b[39m\u001b[39m.\u001b[39mtransform(kg, entities)\n",
      "File \u001b[1;32m~\\AppData\\Local\\Packages\\PythonSoftwareFoundation.Python.3.9_qbz5n2kfra8p0\\LocalCache\\local-packages\\Python39\\site-packages\\pyrdf2vec\\rdf2vec.py:163\u001b[0m, in \u001b[0;36mRDF2VecTransformer.get_walks\u001b[1;34m(self, kg, entities)\u001b[0m\n\u001b[0;32m    146\u001b[0m \u001b[39mdef\u001b[39;00m \u001b[39mget_walks\u001b[39m(\u001b[39mself\u001b[39m, kg: KG, entities: Entities) \u001b[39m-\u001b[39m\u001b[39m>\u001b[39m List[List[SWalk]]:\n\u001b[0;32m    147\u001b[0m     \u001b[39m\"\"\"Gets the walks of an entity based on a Knowledge Graph and a\u001b[39;00m\n\u001b[0;32m    148\u001b[0m \u001b[39m    list of walkers\u001b[39;00m\n\u001b[0;32m    149\u001b[0m \n\u001b[1;32m   (...)\u001b[0m\n\u001b[0;32m    161\u001b[0m \n\u001b[0;32m    162\u001b[0m \u001b[39m    \"\"\"\u001b[39;00m\n\u001b[1;32m--> 163\u001b[0m     \u001b[39mif\u001b[39;00m kg\u001b[39m.\u001b[39mskip_verify \u001b[39mis\u001b[39;00m \u001b[39mFalse\u001b[39;00m \u001b[39mand\u001b[39;00m \u001b[39mnot\u001b[39;00m kg\u001b[39m.\u001b[39;49mis_exist(entities):\n\u001b[0;32m    164\u001b[0m         \u001b[39mif\u001b[39;00m kg\u001b[39m.\u001b[39mmul_req:\n\u001b[0;32m    165\u001b[0m             asyncio\u001b[39m.\u001b[39mrun(kg\u001b[39m.\u001b[39mconnector\u001b[39m.\u001b[39mclose())\n",
      "File \u001b[1;32m~\\AppData\\Local\\Packages\\PythonSoftwareFoundation.Python.3.9_qbz5n2kfra8p0\\LocalCache\\local-packages\\Python39\\site-packages\\pyrdf2vec\\graphs\\kg.py:374\u001b[0m, in \u001b[0;36mKG.is_exist\u001b[1;34m(self, entities)\u001b[0m\n\u001b[0;32m    369\u001b[0m     responses \u001b[39m=\u001b[39m [\n\u001b[0;32m    370\u001b[0m         res[\u001b[39m\"\u001b[39m\u001b[39mboolean\u001b[39m\u001b[39m\"\u001b[39m]  \u001b[39m# type: ignore\u001b[39;00m\n\u001b[0;32m    371\u001b[0m         \u001b[39mfor\u001b[39;00m res \u001b[39min\u001b[39;00m asyncio\u001b[39m.\u001b[39mrun(\u001b[39mself\u001b[39m\u001b[39m.\u001b[39mconnector\u001b[39m.\u001b[39mafetch(queries))\n\u001b[0;32m    372\u001b[0m     ]\n\u001b[0;32m    373\u001b[0m \u001b[39melse\u001b[39;00m:\n\u001b[1;32m--> 374\u001b[0m     responses \u001b[39m=\u001b[39m [\u001b[39mself\u001b[39m\u001b[39m.\u001b[39mconnector\u001b[39m.\u001b[39mfetch(query) \u001b[39mfor\u001b[39;00m query \u001b[39min\u001b[39;00m queries]\n\u001b[0;32m    375\u001b[0m     responses \u001b[39m=\u001b[39m [res[\u001b[39m\"\u001b[39m\u001b[39mboolean\u001b[39m\u001b[39m\"\u001b[39m] \u001b[39mfor\u001b[39;00m res \u001b[39min\u001b[39;00m responses]\n\u001b[0;32m    376\u001b[0m \u001b[39mreturn\u001b[39;00m \u001b[39mFalse\u001b[39;00m \u001b[39mnot\u001b[39;00m \u001b[39min\u001b[39;00m responses\n",
      "File \u001b[1;32m~\\AppData\\Local\\Packages\\PythonSoftwareFoundation.Python.3.9_qbz5n2kfra8p0\\LocalCache\\local-packages\\Python39\\site-packages\\pyrdf2vec\\graphs\\kg.py:374\u001b[0m, in \u001b[0;36m<listcomp>\u001b[1;34m(.0)\u001b[0m\n\u001b[0;32m    369\u001b[0m     responses \u001b[39m=\u001b[39m [\n\u001b[0;32m    370\u001b[0m         res[\u001b[39m\"\u001b[39m\u001b[39mboolean\u001b[39m\u001b[39m\"\u001b[39m]  \u001b[39m# type: ignore\u001b[39;00m\n\u001b[0;32m    371\u001b[0m         \u001b[39mfor\u001b[39;00m res \u001b[39min\u001b[39;00m asyncio\u001b[39m.\u001b[39mrun(\u001b[39mself\u001b[39m\u001b[39m.\u001b[39mconnector\u001b[39m.\u001b[39mafetch(queries))\n\u001b[0;32m    372\u001b[0m     ]\n\u001b[0;32m    373\u001b[0m \u001b[39melse\u001b[39;00m:\n\u001b[1;32m--> 374\u001b[0m     responses \u001b[39m=\u001b[39m [\u001b[39mself\u001b[39;49m\u001b[39m.\u001b[39;49mconnector\u001b[39m.\u001b[39;49mfetch(query) \u001b[39mfor\u001b[39;00m query \u001b[39min\u001b[39;00m queries]\n\u001b[0;32m    375\u001b[0m     responses \u001b[39m=\u001b[39m [res[\u001b[39m\"\u001b[39m\u001b[39mboolean\u001b[39m\u001b[39m\"\u001b[39m] \u001b[39mfor\u001b[39;00m res \u001b[39min\u001b[39;00m responses]\n\u001b[0;32m    376\u001b[0m \u001b[39mreturn\u001b[39;00m \u001b[39mFalse\u001b[39;00m \u001b[39mnot\u001b[39;00m \u001b[39min\u001b[39;00m responses\n",
      "File \u001b[1;32m~\\AppData\\Local\\Packages\\PythonSoftwareFoundation.Python.3.9_qbz5n2kfra8p0\\LocalCache\\local-packages\\Python39\\site-packages\\cachetools\\__init__.py:567\u001b[0m, in \u001b[0;36mcachedmethod.<locals>.decorator.<locals>.wrapper\u001b[1;34m(self, *args, **kwargs)\u001b[0m\n\u001b[0;32m    565\u001b[0m \u001b[39mexcept\u001b[39;00m \u001b[39mKeyError\u001b[39;00m:\n\u001b[0;32m    566\u001b[0m     \u001b[39mpass\u001b[39;00m  \u001b[39m# key not found\u001b[39;00m\n\u001b[1;32m--> 567\u001b[0m v \u001b[39m=\u001b[39m method(\u001b[39mself\u001b[39m, \u001b[39m*\u001b[39margs, \u001b[39m*\u001b[39m\u001b[39m*\u001b[39mkwargs)\n\u001b[0;32m    568\u001b[0m \u001b[39mtry\u001b[39;00m:\n\u001b[0;32m    569\u001b[0m     c[k] \u001b[39m=\u001b[39m v\n",
      "File \u001b[1;32m~\\AppData\\Local\\Packages\\PythonSoftwareFoundation.Python.3.9_qbz5n2kfra8p0\\LocalCache\\local-packages\\Python39\\site-packages\\pyrdf2vec\\connectors.py:136\u001b[0m, in \u001b[0;36mSPARQLConnector.fetch\u001b[1;34m(self, query)\u001b[0m\n\u001b[0;32m    134\u001b[0m url \u001b[39m=\u001b[39m \u001b[39mf\u001b[39m\u001b[39m\"\u001b[39m\u001b[39m{\u001b[39;00m\u001b[39mself\u001b[39m\u001b[39m.\u001b[39mendpoint\u001b[39m}\u001b[39;00m\u001b[39m/query?query=\u001b[39m\u001b[39m{\u001b[39;00mparse\u001b[39m.\u001b[39mquote(query)\u001b[39m}\u001b[39;00m\u001b[39m\"\u001b[39m\n\u001b[0;32m    135\u001b[0m \u001b[39mwith\u001b[39;00m requests\u001b[39m.\u001b[39mget(url, headers\u001b[39m=\u001b[39m\u001b[39mself\u001b[39m\u001b[39m.\u001b[39m_headers) \u001b[39mas\u001b[39;00m res:\n\u001b[1;32m--> 136\u001b[0m     \u001b[39mreturn\u001b[39;00m res\u001b[39m.\u001b[39;49mjson()\n",
      "File \u001b[1;32m~\\AppData\\Local\\Packages\\PythonSoftwareFoundation.Python.3.9_qbz5n2kfra8p0\\LocalCache\\local-packages\\Python39\\site-packages\\requests\\models.py:917\u001b[0m, in \u001b[0;36mResponse.json\u001b[1;34m(self, **kwargs)\u001b[0m\n\u001b[0;32m    915\u001b[0m     \u001b[39mraise\u001b[39;00m RequestsJSONDecodeError(e\u001b[39m.\u001b[39mmessage)\n\u001b[0;32m    916\u001b[0m \u001b[39melse\u001b[39;00m:\n\u001b[1;32m--> 917\u001b[0m     \u001b[39mraise\u001b[39;00m RequestsJSONDecodeError(e\u001b[39m.\u001b[39mmsg, e\u001b[39m.\u001b[39mdoc, e\u001b[39m.\u001b[39mpos)\n",
      "\u001b[1;31mJSONDecodeError\u001b[0m: [Errno Expecting value] <html>\n  <head>\n    <title>Page not found</title>\n  </head>\n  <body>\n    <p>\n    We could not find that page. Please go back and try again.\n    </p>\n  </body>\n</html>\n: 0"
     ]
    }
   ],
   "source": [
    "embeddings, literals = transformer.fit_transform(knowledge, entities)"
   ]
  },
  {
   "cell_type": "code",
   "execution_count": null,
   "metadata": {},
   "outputs": [],
   "source": []
  }
 ],
 "metadata": {
  "kernelspec": {
   "display_name": "Python 3",
   "language": "python",
   "name": "python3"
  },
  "language_info": {
   "codemirror_mode": {
    "name": "ipython",
    "version": 3
   },
   "file_extension": ".py",
   "mimetype": "text/x-python",
   "name": "python",
   "nbconvert_exporter": "python",
   "pygments_lexer": "ipython3",
   "version": "3.9.13"
  },
  "orig_nbformat": 4,
  "vscode": {
   "interpreter": {
    "hash": "e4eed0e4ac208b39471a32ccc3ec406fd0993f32776dcc38ecc96ca87d526a53"
   }
  }
 },
 "nbformat": 4,
 "nbformat_minor": 2
}
