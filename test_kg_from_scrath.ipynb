{
 "cells": [
  {
   "cell_type": "code",
   "execution_count": 1,
   "metadata": {
    "collapsed": true
   },
   "outputs": [],
   "source": [
    "import pandas as pd\n",
    "\n",
    "from pyrdf2vec import RDF2VecTransformer\n",
    "from pyrdf2vec.embedders import Word2Vec\n",
    "from pyrdf2vec.graphs import KG\n",
    "from pyrdf2vec.walkers import RandomWalker\n",
    "from pyrdf2vec.graphs import Vertex\n",
    "\n",
    "import rdflib"
   ]
  },
  {
   "cell_type": "code",
   "execution_count": 2,
   "outputs": [],
   "source": [
    "knowledge_graph = KG(\"Query_2020_sortiert_ohneAutor__mitTitel_editiert.ttl\", skip_predicates= {\"http://prismstandard.org/namespaces/basic/2.0/publicationDate\", \"http://purl.org/spar/fabio/hasPublicationYear\"}, literals=[\n",
    "    [\"http://www.w3.org/2004/02/skos/core#prefLabel\"],\n",
    "])"
   ],
   "metadata": {
    "collapsed": false
   }
  },
  {
   "cell_type": "code",
   "execution_count": 3,
   "outputs": [],
   "source": [
    "for subj, pred, obj in rdflib.Graph().parse(\n",
    "    \"Query_2020_sortiert_ohneAutor__mitTitel_editiert.ttl\", format=\"ttl\"\n",
    "):\n",
    "    subj = Vertex(str(subj))\n",
    "    obj = Vertex(str(obj))\n",
    "    pred = Vertex(str(pred), predicate=True, vprev=subj, vnext=obj)\n",
    "    #knowledge_graph.add_walk(subj, pred, obj)\n",
    "    knowledge_graph.add_walk(obj, pred, subj)\n",
    "\n",
    "    # print(subj.name)\n",
    "\n",
    "#knowledge_graph"
   ],
   "metadata": {
    "collapsed": false
   }
  },
  {
   "cell_type": "code",
   "execution_count": 4,
   "outputs": [],
   "source": [
    "data = pd.read_csv(\"CSV_2020_sortiert.csv\", sep=\",\")\n",
    "entities = [entity for entity in data[\"relatedConceptsWork\"]]\n",
    "entities_distinct = list(dict.fromkeys(entities))"
   ],
   "metadata": {
    "collapsed": false
   }
  },
  {
   "cell_type": "code",
   "execution_count": 5,
   "outputs": [],
   "source": [
    "transformer = RDF2VecTransformer(\n",
    "    Word2Vec(epochs=10),\n",
    "    walkers=[RandomWalker(max_depth=4, max_walks=10)],\n",
    "    verbose=1\n",
    ")"
   ],
   "metadata": {
    "collapsed": false
   }
  },
  {
   "cell_type": "code",
   "execution_count": 6,
   "outputs": [
    {
     "name": "stderr",
     "output_type": "stream",
     "text": [
      "100%|██████████| 2003/2003 [09:11<00:00,  3.63it/s]\n"
     ]
    },
    {
     "name": "stdout",
     "output_type": "stream",
     "text": [
      "Extracted 19807 walks for 2003 entities (553.5273s)\n",
      "Fitted 19807 walks (0.6556s)\n"
     ]
    },
    {
     "name": "stderr",
     "output_type": "stream",
     "text": [
      "100%|██████████| 2003/2003 [00:00<00:00, 6578.01it/s]"
     ]
    },
    {
     "name": "stdout",
     "output_type": "stream",
     "text": [
      "Extracted 2003 literals for 2003 entities (0.3065s)\n"
     ]
    },
    {
     "name": "stderr",
     "output_type": "stream",
     "text": [
      "\n"
     ]
    }
   ],
   "source": [
    "embeddings, literals = transformer.fit_transform(knowledge_graph, entities_distinct)"
   ],
   "metadata": {
    "collapsed": false
   }
  },
  {
   "cell_type": "code",
   "execution_count": 7,
   "outputs": [],
   "source": [
    "embeddings"
   ],
   "metadata": {
    "collapsed": false
   }
  },
  {
   "cell_type": "code",
   "execution_count": 8,
   "outputs": [],
   "source": [
    "literals"
   ],
   "metadata": {
    "collapsed": false
   }
  },
  {
   "cell_type": "code",
   "execution_count": 9,
   "outputs": [],
   "source": [],
   "metadata": {
    "collapsed": false
   }
  },
  {
   "cell_type": "code",
   "execution_count": 13,
   "outputs": [],
   "source": [],
   "metadata": {
    "collapsed": false
   }
  },
  {
   "cell_type": "code",
   "execution_count": null,
   "outputs": [],
   "source": [],
   "metadata": {
    "collapsed": false
   }
  }
 ],
 "metadata": {
  "kernelspec": {
   "display_name": "Python 3",
   "language": "python",
   "name": "python3"
  },
  "language_info": {
   "codemirror_mode": {
    "name": "ipython",
    "version": 2
   },
   "file_extension": ".py",
   "mimetype": "text/x-python",
   "name": "python",
   "nbconvert_exporter": "python",
   "pygments_lexer": "ipython2",
   "version": "2.7.6"
  }
 },
 "nbformat": 4,
 "nbformat_minor": 0
}
